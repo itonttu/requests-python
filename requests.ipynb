{
 "cells": [
  {
   "cell_type": "code",
   "execution_count": 14,
   "id": "492e93a6",
   "metadata": {},
   "outputs": [
    {
     "name": "stdout",
     "output_type": "stream",
     "text": [
      "郵便番号を入力してください181-0013\n",
      "東京都三鷹市下連雀\n"
     ]
    }
   ],
   "source": [
    "import requests\n",
    "zipcode = input('郵便番号を入力してください')\n",
    "zipcode = zipcode.replace('-','')\n",
    "res = requests.get(f'https://zipcloud.ibsnet.co.jp/api/search?zipcode={zipcode}')\n",
    "res_json = res.json()\n",
    "results = res_json['results'][0]\n",
    "address = results['address1']+results['address2']+results['address3']\n",
    "print(address)"
   ]
  },
  {
   "cell_type": "code",
   "execution_count": null,
   "id": "5c7398b0",
   "metadata": {},
   "outputs": [],
   "source": []
  }
 ],
 "metadata": {
  "kernelspec": {
   "display_name": "Python 3 (ipykernel)",
   "language": "python",
   "name": "python3"
  },
  "language_info": {
   "codemirror_mode": {
    "name": "ipython",
    "version": 3
   },
   "file_extension": ".py",
   "mimetype": "text/x-python",
   "name": "python",
   "nbconvert_exporter": "python",
   "pygments_lexer": "ipython3",
   "version": "3.7.16"
  }
 },
 "nbformat": 4,
 "nbformat_minor": 5
}
